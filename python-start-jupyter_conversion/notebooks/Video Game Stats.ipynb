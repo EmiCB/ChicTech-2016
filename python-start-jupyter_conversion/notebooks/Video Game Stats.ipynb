{
 "cells": [
  {
   "cell_type": "code",
   "execution_count": 32,
   "metadata": {
    "collapsed": false
   },
   "outputs": [
    {
     "data": {
      "image/png": "[encoded data removed]",
      "text/plain": [
       "<matplotlib.figure.Figure at 0x7f7bf1e483d0>"
      ]
     },
     "metadata": {},
     "output_type": "display_data"
    },
    {
     "name": "stdout",
     "output_type": "stream",
     "text": [
      "Top 10 Games Sold in the US:\n",
      " \n",
      "Mario Kart DS\n",
      "Nintendogs\n",
      "Wii Fit\n",
      "Wii Fit Plus\n",
      "Halo 3\n",
      "Pokemon Pearl\n",
      "Pokemon Diamond\n",
      "Super Smash Bros.: Brawl\n",
      "Brain Age: Train Your Brain in Minutes a Day!\n",
      "Call of Duty: Modern Warfare 2\n"
     ]
    }
   ],
   "source": [
    "%matplotlib inline\n",
    "import matplotlib.pyplot as plt\n",
    "import csv\n",
    "\n",
    "def import_data():\n",
    "    result = []\n",
    "\n",
    "    file_dir = 'VideoGames.csv'\n",
    "    with open(file_dir, 'rb') as f:\n",
    "        reader = csv.reader(f)\n",
    "        headers = reader.next()\n",
    "        for line in reader:\n",
    "            # store line data into a python data structure\n",
    "            result.append(line)\n",
    "\n",
    "        return headers, result\n",
    "\n",
    "headers, rows = import_data()\n",
    "\n",
    "def graph_salesdata(x=1, y=2):\n",
    "    # which column the data is stored in in the csv file\n",
    "    x_axis_index = x\n",
    "    y_axis_index = y\n",
    "\n",
    "    plt.xlabel(headers[x_axis_index])\n",
    "    plt.ylabel(headers[y_axis_index])\n",
    "    game_dict = dict()\n",
    "    \n",
    "    for row in rows:\n",
    "        game_dict[row[1]] = row[2]\n",
    "    \n",
    "    x_axis_values = []\n",
    "    y_axis_values = []\n",
    "\n",
    "    #for row in rows:\n",
    "    #    x_axis_values.append(row[x_axis_index])\n",
    "    #    y_axis_values.append(row[y_axis_index])\n",
    "    \n",
    "    # sorts games\n",
    "    f = sorted(game_dict.items(), key=lambda x: x[1], reverse=True)\n",
    "    sales = []\n",
    "    for item in f:\n",
    "        sales.append(item[1])\n",
    "    plt.plot(range(len(f)), sales)\n",
    "    plt.show()\n",
    "    # finds top 10\n",
    "    print 'Top 10 Games Sold in the US:'\n",
    "    print ' '\n",
    "    for i in range(10):\n",
    "        print f[i][0]\n",
    "    \n",
    "def get_average_images(self):\n",
    "    return\n",
    "\n",
    "graph_salesdata()"
   ]
  },
  {
   "cell_type": "code",
   "execution_count": null,
   "metadata": {
    "collapsed": true
   },
   "outputs": [],
   "source": []
  }
 ],
 "metadata": {
  "kernelspec": {
   "display_name": "Python 2",
   "language": "python",
   "name": "python2"
  },
  "language_info": {
   "codemirror_mode": {
    "name": "ipython",
    "version": 2
   },
   "file_extension": ".py",
   "mimetype": "text/x-python",
   "name": "python",
   "nbconvert_exporter": "python",
   "pygments_lexer": "ipython2",
   "version": "2.7.11"
  }
 },
 "nbformat": 4,
 "nbformat_minor": 0
}
